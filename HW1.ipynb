{
 "cells": [
  {
   "cell_type": "markdown",
   "metadata": {},
   "source": [
    "# Python"
   ]
  },
  {
   "cell_type": "code",
   "execution_count": null,
   "metadata": {},
   "outputs": [],
   "source": [
    "%matplotlib inline\n",
    "import numpy as np\n",
    "import pandas as pd\n",
    "import matplotlib.pyplot as plt"
   ]
  },
  {
   "cell_type": "markdown",
   "metadata": {},
   "source": [
    "**Task 1**"
   ]
  },
  {
   "cell_type": "code",
   "execution_count": null,
   "metadata": {},
   "outputs": [],
   "source": [
    "def sum(a, d, N):\n",
    "    res = 0\n",
    "    for i in range(N):\n",
    "        res += a\n",
    "        a += d\n",
    "    return res\n",
    "\n",
    "a = int(input(\"Enter a: \"))\n",
    "d = int(input(\"Enter d: \"))\n",
    "N = int(input(\"Enter N: \"))\n",
    "sum(a, d, N)"
   ]
  },
  {
   "cell_type": "markdown",
   "metadata": {},
   "source": [
    "**Task 2**"
   ]
  },
  {
   "cell_type": "code",
   "execution_count": null,
   "metadata": {},
   "outputs": [],
   "source": [
    "def harmonic(N):\n",
    "    sum = 0\n",
    "    for i in range(1, N + 1):\n",
    "        sum += 1 / i\n",
    "    return sum\n",
    "\n",
    "N = int(input(\"Enter N: \"))\n",
    "harmonic(N)"
   ]
  },
  {
   "cell_type": "markdown",
   "metadata": {},
   "source": [
    "**Task 3**"
   ]
  },
  {
   "cell_type": "code",
   "execution_count": null,
   "metadata": {},
   "outputs": [],
   "source": [
    "def is_prime(N):\n",
    "    for i in range(2, int(np.sqrt(N)) + 1):\n",
    "        if N % i == 0:\n",
    "            return False\n",
    "    return True\n",
    "\n",
    "N = int(input(\"Enter N: \"))\n",
    "is_prime(N)"
   ]
  },
  {
   "cell_type": "markdown",
   "metadata": {},
   "source": [
    "**Task 4**"
   ]
  },
  {
   "cell_type": "code",
   "execution_count": null,
   "metadata": {},
   "outputs": [],
   "source": [
    "def n_first_primes(N):\n",
    "    numbers = np.arange(2, N + 1)\n",
    "    is_prime = np.ones(N - 1, dtype=bool)\n",
    "    is_prime[0] = True\n",
    "    for number in numbers:\n",
    "        if is_prime[number - 2]:\n",
    "            for i in range(2 * number - 2, numbers.size, number):\n",
    "                is_prime[i] = False\n",
    "    result = []\n",
    "    for i in range(numbers.size):\n",
    "        if is_prime[i]:\n",
    "            result.append(numbers[i])       \n",
    "    return result\n",
    "\n",
    "N = int(input(\"Enter N: \"))\n",
    "n_first_primes(N)"
   ]
  },
  {
   "cell_type": "markdown",
   "metadata": {},
   "source": [
    "**Task 5**"
   ]
  },
  {
   "cell_type": "code",
   "execution_count": null,
   "metadata": {},
   "outputs": [],
   "source": [
    "def max(a, b, c):\n",
    "    if a < b:\n",
    "        if b < c:\n",
    "            return c\n",
    "        else:\n",
    "            return b\n",
    "    else:\n",
    "        if a < c:\n",
    "            return c\n",
    "        else:\n",
    "            return a\n",
    "        \n",
    "a = int(input(\"Enter a: \"))\n",
    "b = int(input(\"Enter b: \"))\n",
    "c = int(input(\"Enter c: \"))\n",
    "max(a, b, c)"
   ]
  },
  {
   "cell_type": "markdown",
   "metadata": {},
   "source": [
    "# Numpy"
   ]
  },
  {
   "cell_type": "markdown",
   "metadata": {},
   "source": [
    "**Task 1**"
   ]
  },
  {
   "cell_type": "code",
   "execution_count": null,
   "metadata": {},
   "outputs": [],
   "source": [
    "def euclidian_distance(array_1, array_2):\n",
    "    return np.sqrt(np.sum((array_1 - array_2)**2))\n",
    "        \n",
    "def manhattan_distance(array_1, array_2):\n",
    "    return np.sum(np.abs(array_1 - array_2))\n",
    "\n",
    "def cosine_distance(array_1, array_2):\n",
    "    nominator = np.sum(array_1 * array_2)\n",
    "    denominator = np.sqrt(np.sum(array_1**2)) * np.sqrt(np.sum(array_2**2))\n",
    "    return 1.0 - nominator / denominator\n",
    "    \n",
    "N = int(input(\"Enter size of arrays: \"))\n",
    "array_1 = np.random.randint(100, size=N)\n",
    "array_2 = np.random.randint(100, size=N)\n",
    "print(array_1, array_2)\n",
    "print(euclidian_distance(array_1, array_2))\n",
    "print(manhattan_distance(array_1, array_2))\n",
    "print(cosine_distance(array_1, array_2))"
   ]
  },
  {
   "cell_type": "markdown",
   "metadata": {},
   "source": [
    "**Task 2**"
   ]
  },
  {
   "cell_type": "code",
   "execution_count": null,
   "metadata": {},
   "outputs": [],
   "source": [
    "def gen_10_numbers():\n",
    "    numbers = np.random.rand(10)    \n",
    "    return 2 * numbers / np.sum(numbers)\n",
    "\n",
    "numbers = gen_10_numbers()\n",
    "print(numbers)\n",
    "print(np.sum(numbers))"
   ]
  },
  {
   "cell_type": "markdown",
   "metadata": {},
   "source": [
    "**Task3**"
   ]
  },
  {
   "cell_type": "code",
   "execution_count": null,
   "metadata": {},
   "outputs": [],
   "source": [
    "def transform(numbers):\n",
    "    numbers -= np.min(numbers)\n",
    "    return numbers / np.max(numbers)\n",
    "\n",
    "numbers = np.random.rand(100)\n",
    "print(numbers)\n",
    "print(transform(numbers))"
   ]
  },
  {
   "cell_type": "markdown",
   "metadata": {},
   "source": [
    "**Task 4**"
   ]
  },
  {
   "cell_type": "code",
   "execution_count": null,
   "metadata": {},
   "outputs": [],
   "source": [
    "def smaller_than_5_percentile(numbers):\n",
    "    percentile = np.percentile(numbers, 5)\n",
    "    return np.extract(numbers < percentile, numbers)\n",
    "\n",
    "def larger_than_95_percentile(numbers):\n",
    "    percentile = np.percentile(numbers, 95)\n",
    "    return np.extract(numbers > percentile, numbers)\n",
    "\n",
    "numbers = np.random.randint(0, 51, 20)\n",
    "print(np.sort(numbers))\n",
    "print(smaller_than_5_percentile(numbers))\n",
    "print(larger_than_95_percentile(numbers))"
   ]
  },
  {
   "cell_type": "markdown",
   "metadata": {},
   "source": [
    "**Task 5**"
   ]
  },
  {
   "cell_type": "code",
   "execution_count": null,
   "metadata": {},
   "outputs": [],
   "source": [
    "def print_column_with_max(numbers):\n",
    "    max_index = np.unravel_index(np.argmax(numbers), numbers.shape)\n",
    "    return np.take(numbers, max_index[1], axis=1)\n",
    "\n",
    "numbers = np.random.randint(0, 51, 30).reshape(5, 6)\n",
    "print(f\"Original matrix:\\n {numbers}\\n\")\n",
    "print(f\"Column with maximal element:\\n {print_column_with_max(numbers)}\")"
   ]
  },
  {
   "cell_type": "markdown",
   "metadata": {},
   "source": [
    "**Task 6**"
   ]
  },
  {
   "cell_type": "code",
   "execution_count": null,
   "metadata": {},
   "outputs": [],
   "source": [
    "def replace_nan_with_mean(numbers):\n",
    "    not_nan = np.logical_not(np.isnan(numbers))\n",
    "    mean = np.mean(np.extract(not_nan, numbers))\n",
    "    nan_idx = np.argwhere(np.isnan(numbers))\n",
    "    numbers[nan_idx] = mean\n",
    "    return numbers\n",
    "    \n",
    "arr = np.random.rand(10)\n",
    "idx = np.random.randint(0, 10, 4)\n",
    "arr[idx] = np.nan\n",
    "print(f\"Original array:\\n {arr}\")\n",
    "print(f\"Array with mean instead of nan:\\n {replace_nan_with_mean(arr)}\")"
   ]
  },
  {
   "cell_type": "code",
   "execution_count": null,
   "metadata": {},
   "outputs": [],
   "source": []
  },
  {
   "cell_type": "code",
   "execution_count": null,
   "metadata": {},
   "outputs": [],
   "source": []
  }
 ],
 "metadata": {
  "kernelspec": {
   "display_name": "Python 3",
   "language": "python",
   "name": "python3"
  },
  "language_info": {
   "codemirror_mode": {
    "name": "ipython",
    "version": 3
   },
   "file_extension": ".py",
   "mimetype": "text/x-python",
   "name": "python",
   "nbconvert_exporter": "python",
   "pygments_lexer": "ipython3",
   "version": "3.7.1"
  }
 },
 "nbformat": 4,
 "nbformat_minor": 2
}
