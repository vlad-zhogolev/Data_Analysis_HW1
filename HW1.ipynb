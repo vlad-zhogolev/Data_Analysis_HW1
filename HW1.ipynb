{
 "cells": [
  {
   "cell_type": "markdown",
   "metadata": {},
   "source": [
    "# Python"
   ]
  },
  {
   "cell_type": "code",
   "execution_count": 2,
   "metadata": {},
   "outputs": [],
   "source": [
    "%matplotlib inline\n",
    "import numpy as np\n",
    "import pandas as pd\n",
    "import matplotlib.pyplot as plt"
   ]
  },
  {
   "cell_type": "markdown",
   "metadata": {},
   "source": [
    "**Task 1**"
   ]
  },
  {
   "cell_type": "code",
   "execution_count": 28,
   "metadata": {},
   "outputs": [
    {
     "name": "stdout",
     "output_type": "stream",
     "text": [
      "Enter a: 1\n",
      "Enter d: 2\n",
      "Enter N: 3\n"
     ]
    },
    {
     "data": {
      "text/plain": [
       "9"
      ]
     },
     "execution_count": 28,
     "metadata": {},
     "output_type": "execute_result"
    }
   ],
   "source": [
    "def sum(a, d, N):\n",
    "    res = 0\n",
    "    for i in range(N):\n",
    "        res += a\n",
    "        a += d\n",
    "    return res\n",
    "\n",
    "a = int(input(\"Enter a: \"))\n",
    "d = int(input(\"Enter d: \"))\n",
    "N = int(input(\"Enter N: \"))\n",
    "sum(a, d, N)"
   ]
  },
  {
   "cell_type": "markdown",
   "metadata": {},
   "source": [
    "**Task 2**"
   ]
  },
  {
   "cell_type": "code",
   "execution_count": 29,
   "metadata": {},
   "outputs": [
    {
     "name": "stdout",
     "output_type": "stream",
     "text": [
      "Enter N: 3\n"
     ]
    },
    {
     "data": {
      "text/plain": [
       "1.8333333333333333"
      ]
     },
     "execution_count": 29,
     "metadata": {},
     "output_type": "execute_result"
    }
   ],
   "source": [
    "def harmonic(N):\n",
    "    sum = 0\n",
    "    for i in range(1, N + 1):\n",
    "        sum += 1 / i\n",
    "    return sum\n",
    "\n",
    "N = int(input(\"Enter N: \"))\n",
    "harmonic(N)"
   ]
  },
  {
   "cell_type": "markdown",
   "metadata": {},
   "source": [
    "**Task 3**"
   ]
  },
  {
   "cell_type": "code",
   "execution_count": 30,
   "metadata": {},
   "outputs": [
    {
     "name": "stdout",
     "output_type": "stream",
     "text": [
      "Enter N: 6\n"
     ]
    },
    {
     "data": {
      "text/plain": [
       "False"
      ]
     },
     "execution_count": 30,
     "metadata": {},
     "output_type": "execute_result"
    }
   ],
   "source": [
    "def is_prime(N):\n",
    "    for i in range(2, int(np.sqrt(N)) + 1):\n",
    "        if N % i == 0:\n",
    "            return False\n",
    "    return True\n",
    "\n",
    "N = int(input(\"Enter N: \"))\n",
    "is_prime(N)"
   ]
  },
  {
   "cell_type": "markdown",
   "metadata": {},
   "source": [
    "**Task 4**"
   ]
  },
  {
   "cell_type": "code",
   "execution_count": 31,
   "metadata": {},
   "outputs": [
    {
     "name": "stdout",
     "output_type": "stream",
     "text": [
      "Enter N: 6\n"
     ]
    },
    {
     "data": {
      "text/plain": [
       "[2, 3, 5]"
      ]
     },
     "execution_count": 31,
     "metadata": {},
     "output_type": "execute_result"
    }
   ],
   "source": [
    "def n_first_primes(N):\n",
    "    numbers = np.arange(2, N + 1)\n",
    "    is_prime = np.ones(N - 1, dtype=bool)\n",
    "    is_prime[0] = True\n",
    "    for number in numbers:\n",
    "        if is_prime[number - 2]:\n",
    "            for i in range(2 * number - 2, numbers.size, number):\n",
    "                is_prime[i] = False\n",
    "    result = []\n",
    "    for i in range(numbers.size):\n",
    "        if is_prime[i]:\n",
    "            result.append(numbers[i])       \n",
    "    return result\n",
    "\n",
    "N = int(input(\"Enter N: \"))\n",
    "n_first_primes(N)"
   ]
  },
  {
   "cell_type": "markdown",
   "metadata": {},
   "source": [
    "**Task 5**"
   ]
  },
  {
   "cell_type": "code",
   "execution_count": 32,
   "metadata": {},
   "outputs": [
    {
     "name": "stdout",
     "output_type": "stream",
     "text": [
      "Enter a: 4\n",
      "Enter b: 5\n",
      "Enter c: 6\n"
     ]
    },
    {
     "data": {
      "text/plain": [
       "6"
      ]
     },
     "execution_count": 32,
     "metadata": {},
     "output_type": "execute_result"
    }
   ],
   "source": [
    "def max(a, b, c):\n",
    "    if a < b:\n",
    "        if b < c:\n",
    "            return c\n",
    "        else:\n",
    "            return b\n",
    "    else:\n",
    "        if a < c:\n",
    "            return c\n",
    "        else:\n",
    "            return a\n",
    "        \n",
    "a = int(input(\"Enter a: \"))\n",
    "b = int(input(\"Enter b: \"))\n",
    "c = int(input(\"Enter c: \"))\n",
    "max(a, b, c)"
   ]
  },
  {
   "cell_type": "markdown",
   "metadata": {},
   "source": [
    "# Numpy"
   ]
  },
  {
   "cell_type": "markdown",
   "metadata": {},
   "source": [
    "**Task 1**"
   ]
  },
  {
   "cell_type": "code",
   "execution_count": 47,
   "metadata": {},
   "outputs": [
    {
     "name": "stdout",
     "output_type": "stream",
     "text": [
      "Enter size of arrays: 5\n",
      "[82 33 34 72 82] [68 93 77 33 25]\n",
      "102.05390732353172\n",
      "213\n",
      "0.24920408532274518\n"
     ]
    }
   ],
   "source": [
    "def euclidian_distance(array_1, array_2):\n",
    "    return np.sqrt(np.sum((array_1 - array_2)**2))\n",
    "        \n",
    "def manhattan_distance(array_1, array_2):\n",
    "    return np.sum(np.abs(array_1 - array_2))\n",
    "\n",
    "def cosine_distance(array_1, array_2):\n",
    "    nominator = np.sum(array_1 * array_2)\n",
    "    denominator = np.sqrt(np.sum(array_1**2)) * np.sqrt(np.sum(array_2**2))\n",
    "    return 1.0 - nominator / denominator\n",
    "    \n",
    "N = int(input(\"Enter size of arrays: \"))\n",
    "array_1 = np.random.randint(100, size=N)\n",
    "array_2 = np.random.randint(100, size=N)\n",
    "print(array_1, array_2)\n",
    "print(euclidian_distance(array_1, array_2))\n",
    "print(manhattan_distance(array_1, array_2))\n",
    "print(cosine_distance(array_1, array_2))"
   ]
  },
  {
   "cell_type": "markdown",
   "metadata": {},
   "source": [
    "**Task 2**"
   ]
  },
  {
   "cell_type": "code",
   "execution_count": 55,
   "metadata": {},
   "outputs": [
    {
     "name": "stdout",
     "output_type": "stream",
     "text": [
      "[0.29167998 0.17527888 0.07754223 0.25372685 0.14305556 0.20879487\n",
      " 0.20469372 0.30183679 0.27043288 0.07295824]\n",
      "1.9999999999999998\n"
     ]
    }
   ],
   "source": [
    "def gen_10_numbers():\n",
    "    numbers = np.random.rand(10)    \n",
    "    return 2 * numbers / np.sum(numbers)\n",
    "\n",
    "numbers = gen_10_numbers()\n",
    "print(numbers)\n",
    "print(np.sum(numbers))"
   ]
  },
  {
   "cell_type": "markdown",
   "metadata": {},
   "source": [
    "**Task3**"
   ]
  },
  {
   "cell_type": "code",
   "execution_count": 7,
   "metadata": {},
   "outputs": [
    {
     "name": "stdout",
     "output_type": "stream",
     "text": [
      "[5.13663789e-02 4.86422327e-01 2.67800333e-01 8.04831313e-01\n",
      " 4.37297342e-02 2.88274735e-01 2.77997935e-01 6.11078038e-01\n",
      " 8.88626218e-01 3.41027511e-02 2.61215899e-01 1.99336809e-01\n",
      " 5.34487712e-01 5.54358769e-01 1.80988915e-01 4.55818228e-02\n",
      " 1.38471198e-01 3.07044094e-01 1.58685114e-01 7.14316613e-01\n",
      " 7.69140337e-01 8.08043695e-01 1.67187781e-01 6.77368735e-01\n",
      " 3.22176040e-01 8.11454273e-01 8.08842262e-01 1.29892109e-01\n",
      " 4.34651734e-01 5.82222988e-01 6.43115896e-02 6.86637977e-01\n",
      " 4.11442944e-01 7.13635288e-01 5.08647879e-01 8.69722219e-04\n",
      " 8.68292091e-01 1.43993797e-01 7.64693373e-02 6.17852224e-01\n",
      " 6.87217863e-01 1.98935474e-01 2.45943644e-02 2.56459987e-01\n",
      " 1.97963319e-01 1.39345659e-01 2.79479351e-01 4.53291981e-01\n",
      " 1.67373790e-01 3.26803951e-01 4.32257583e-01 4.80629303e-01\n",
      " 8.84681927e-02 4.55868301e-02 4.84218379e-01 9.46754433e-01\n",
      " 7.91227675e-02 2.99548013e-01 7.95103867e-01 6.40953101e-01\n",
      " 2.87136130e-01 5.64684494e-02 3.61505196e-01 9.72997238e-01\n",
      " 4.34196143e-01 9.29851724e-01 3.83556977e-01 1.04029383e-01\n",
      " 1.25847101e-01 2.80490032e-01 1.72888167e-01 2.87162382e-01\n",
      " 7.66306392e-01 1.74044197e-01 2.99972722e-01 7.31957204e-01\n",
      " 9.98439754e-01 3.55839705e-01 3.58929453e-01 7.98157880e-01\n",
      " 8.72209318e-01 7.83957777e-01 4.81511975e-01 8.15071257e-01\n",
      " 8.11913616e-01 8.19957823e-01 2.71943327e-01 6.41214018e-01\n",
      " 7.81235546e-01 9.21957393e-01 7.19424923e-01 6.43382936e-01\n",
      " 6.97890284e-01 2.42792990e-01 3.03168714e-01 1.40710122e-01\n",
      " 2.91682243e-01 5.02260176e-01 4.37544820e-01 8.83168574e-01]\n",
      "[0.05061966 0.48673536 0.26758082 0.80591995 0.04296441 0.2881051\n",
      " 0.27780327 0.61169472 0.88991897 0.03331398 0.26098035 0.19895053\n",
      " 0.53491782 0.55483728 0.18055794 0.04482101 0.13793666 0.30692018\n",
      " 0.15819981 0.71518477 0.77014204 0.80914016 0.16672319 0.67814689\n",
      " 0.32208898 0.81255904 0.80994067 0.12933667 0.43483866 0.58276938\n",
      " 0.0635964  0.68743871 0.41157333 0.71450178 0.50901505 0.\n",
      " 0.86953531 0.14347271 0.07578377 0.6184854  0.68802001 0.19854822\n",
      " 0.02378243 0.25621285 0.19757369 0.13881325 0.27928829 0.45352431\n",
      " 0.16690965 0.32672817 0.43243867 0.48092822 0.08781185 0.04482603\n",
      " 0.48452604 0.94818878 0.07844366 0.29940584 0.79616881 0.64164255\n",
      " 0.28696372 0.05573416 0.36151394 0.97449551 0.43438196 0.9312449\n",
      " 0.38361944 0.10341095 0.12528181 0.28030143 0.17243746 0.28699004\n",
      " 0.76730119 0.17359631 0.29983158 0.73286833 1.         0.35583465\n",
      " 0.35893192 0.79923026 0.87346208 0.78499557 0.48181304 0.81618484\n",
      " 0.81301951 0.82108331 0.27173391 0.6419041  0.78226671 0.92333134\n",
      " 0.72030552 0.6440783  0.69871843 0.24251257 0.30303536 0.14018104\n",
      " 0.29152091 0.50261178 0.43773879 0.88444803]\n"
     ]
    }
   ],
   "source": [
    "def transform(numbers):\n",
    "    numbers -= np.min(numbers)\n",
    "    return numbers / np.max(numbers)\n",
    "\n",
    "numbers = np.random.rand(100)\n",
    "print(numbers)\n",
    "print(transform(numbers))"
   ]
  },
  {
   "cell_type": "markdown",
   "metadata": {},
   "source": [
    "**Task 4**"
   ]
  },
  {
   "cell_type": "code",
   "execution_count": 31,
   "metadata": {},
   "outputs": [
    {
     "name": "stdout",
     "output_type": "stream",
     "text": [
      "[ 0  0  2  6  7  9 12 14 18 26 28 29 32 34 35 38 43 47 47 49]\n",
      "0.0\n",
      "[]\n",
      "47.099999999999994\n",
      "[49]\n"
     ]
    }
   ],
   "source": [
    "def smaller_than_5_percentile(numbers):\n",
    "    percentile = np.percentile(numbers, 5)\n",
    "    return np.extract(numbers < percentile, numbers)\n",
    "\n",
    "def larger_than_95_percentile(numbers):\n",
    "    percentile = np.percentile(numbers, 95)\n",
    "    return np.extract(numbers > percentile, numbers)\n",
    "\n",
    "numbers = np.random.randint(0, 50, 20)\n",
    "print(np.sort(numbers))\n",
    "print(smaller_than_5_percentile(numbers))\n",
    "print(larger_than_95_percentile(numbers))"
   ]
  },
  {
   "cell_type": "code",
   "execution_count": null,
   "metadata": {},
   "outputs": [],
   "source": []
  },
  {
   "cell_type": "code",
   "execution_count": null,
   "metadata": {},
   "outputs": [],
   "source": []
  }
 ],
 "metadata": {
  "kernelspec": {
   "display_name": "Python 3",
   "language": "python",
   "name": "python3"
  },
  "language_info": {
   "codemirror_mode": {
    "name": "ipython",
    "version": 3
   },
   "file_extension": ".py",
   "mimetype": "text/x-python",
   "name": "python",
   "nbconvert_exporter": "python",
   "pygments_lexer": "ipython3",
   "version": "3.7.1"
  }
 },
 "nbformat": 4,
 "nbformat_minor": 2
}
